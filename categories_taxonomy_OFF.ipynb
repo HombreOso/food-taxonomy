{
 "cells": [
  {
   "cell_type": "markdown",
   "id": "a61ffe71-fab9-448a-932e-a2ed830ac731",
   "metadata": {},
   "source": [
    "<h1>Tackling OFF categories taxonomy file</h1>"
   ]
  },
  {
   "cell_type": "code",
   "execution_count": 1,
   "id": "4f6b2a27-c350-4f7c-ad3a-0152a74e9a4a",
   "metadata": {},
   "outputs": [],
   "source": [
    "import os\n",
    "\n",
    "import pandas as pd\n",
    "import numpy as np\n",
    "import matplotlib\n",
    "import json\n",
    "import re"
   ]
  },
  {
   "cell_type": "code",
   "execution_count": 2,
   "id": "d129948a-7ff0-446a-825a-9220a28ea273",
   "metadata": {},
   "outputs": [],
   "source": [
    "path_to_categories_taxonomy_file = \"C:/Users/a_emi/OneDrive/Documents/003_Speisekammer/002_namings/categories_OFF.txt\""
   ]
  },
  {
   "cell_type": "code",
   "execution_count": null,
   "id": "f96710e7-1c41-49d8-bd9d-174e6c93354c",
   "metadata": {},
   "outputs": [],
   "source": []
  },
  {
   "cell_type": "code",
   "execution_count": 3,
   "id": "59c95c0d-2c5a-46f8-9709-21fc512e930e",
   "metadata": {},
   "outputs": [],
   "source": [
    "with open(path_to_categories_taxonomy_file, \"r\", encoding=\"utf8\") as cat_taxonomy_file_obj:\n",
    "    cat_taxonomy_text_string = cat_taxonomy_file_obj.read().split(\"\\n\\n\")"
   ]
  },
  {
   "cell_type": "code",
   "execution_count": 4,
   "id": "11fb8b03-770e-4643-9d19-38432e3ac8a5",
   "metadata": {},
   "outputs": [],
   "source": [
    "# skip explanation lines\n",
    "cat_taxonomy_text_string_useful = cat_taxonomy_text_string[26:]"
   ]
  },
  {
   "cell_type": "code",
   "execution_count": 5,
   "id": "85cfde9c-7758-4624-8446-07eabf3d1b34",
   "metadata": {},
   "outputs": [
    {
     "data": {
      "text/plain": [
       "11837"
      ]
     },
     "execution_count": 5,
     "metadata": {},
     "output_type": "execute_result"
    }
   ],
   "source": [
    "len(cat_taxonomy_text_string_useful)"
   ]
  },
  {
   "cell_type": "code",
   "execution_count": 6,
   "id": "81a8d8b9-d126-4a6e-9f66-42f71e36268c",
   "metadata": {},
   "outputs": [],
   "source": [
    "cat_taxonomy_text_string_useful_lines = [string_obj.split(\"\\n\") for string_obj in cat_taxonomy_text_string_useful]"
   ]
  },
  {
   "cell_type": "code",
   "execution_count": 7,
   "id": "bc824a8c-33bd-47ca-b619-9025668308fb",
   "metadata": {},
   "outputs": [
    {
     "data": {
      "text/plain": [
       "11837"
      ]
     },
     "execution_count": 7,
     "metadata": {},
     "output_type": "execute_result"
    }
   ],
   "source": [
    "len(cat_taxonomy_text_string_useful_lines)"
   ]
  },
  {
   "cell_type": "code",
   "execution_count": 8,
   "id": "baa5f122-ce11-424e-9c21-d46db9e230f2",
   "metadata": {},
   "outputs": [
    {
     "data": {
      "text/plain": [
       "10"
      ]
     },
     "execution_count": 8,
     "metadata": {},
     "output_type": "execute_result"
    }
   ],
   "source": [
    "len(cat_taxonomy_text_string_useful_lines[1])"
   ]
  },
  {
   "cell_type": "markdown",
   "id": "f82b9146-3041-4619-ba3c-90a8dee01087",
   "metadata": {},
   "source": [
    "English taxonomy"
   ]
  },
  {
   "cell_type": "code",
   "execution_count": 9,
   "id": "6d83a5ea-4cf0-43a9-90d4-2ef1a91badd0",
   "metadata": {},
   "outputs": [],
   "source": [
    "en_lines_list_list_clean = [list(line.split(\"en:\")[-1] for line in useful_lines_list if \"en:\" in line and not re.match(r\".+en:[ A-Z-]*\\d{3,15}\", line)) for useful_lines_list in cat_taxonomy_text_string_useful_lines]"
   ]
  },
  {
   "cell_type": "code",
   "execution_count": 10,
   "id": "0ddeef63-3312-4533-9a39-3e32d081d986",
   "metadata": {},
   "outputs": [],
   "source": [
    "def form_tree(list):\n",
    "    tree = {}\n",
    "    for item in list:\n",
    "        currTree = tree\n",
    "  \n",
    "        for key in item:\n",
    "            if key not in currTree:\n",
    "                currTree[key] = {}\n",
    "            currTree = currTree[key]\n",
    "              \n",
    "    return tree"
   ]
  },
  {
   "cell_type": "code",
   "execution_count": 11,
   "id": "9930cffa-b3b1-4c51-a203-a1a1ca08d6f9",
   "metadata": {},
   "outputs": [
    {
     "ename": "NameError",
     "evalue": "name 'en_lines_list_list' is not defined",
     "output_type": "error",
     "traceback": [
      "\u001b[1;31m---------------------------------------------------------------------------\u001b[0m",
      "\u001b[1;31mNameError\u001b[0m                                 Traceback (most recent call last)",
      "\u001b[1;32m~\\AppData\\Local\\Temp/ipykernel_3752/3930090378.py\u001b[0m in \u001b[0;36m<module>\u001b[1;34m\u001b[0m\n\u001b[1;32m----> 1\u001b[1;33m \u001b[0mtree_taxonomy\u001b[0m \u001b[1;33m=\u001b[0m \u001b[0mform_tree\u001b[0m\u001b[1;33m(\u001b[0m\u001b[0men_lines_list_list\u001b[0m\u001b[1;33m)\u001b[0m\u001b[1;33m\u001b[0m\u001b[1;33m\u001b[0m\u001b[0m\n\u001b[0m",
      "\u001b[1;31mNameError\u001b[0m: name 'en_lines_list_list' is not defined"
     ]
    }
   ],
   "source": [
    "tree_taxonomy = form_tree(en_lines_list_list)"
   ]
  },
  {
   "cell_type": "code",
   "execution_count": 11,
   "id": "68a2f63a-b568-4ea7-915b-71324ad3c1f9",
   "metadata": {},
   "outputs": [
    {
     "ename": "NameError",
     "evalue": "name 'tree_taxonomy' is not defined",
     "output_type": "error",
     "traceback": [
      "\u001b[1;31m---------------------------------------------------------------------------\u001b[0m",
      "\u001b[1;31mNameError\u001b[0m                                 Traceback (most recent call last)",
      "\u001b[1;32m~\\AppData\\Local\\Temp/ipykernel_20092/446489349.py\u001b[0m in \u001b[0;36m<module>\u001b[1;34m\u001b[0m\n\u001b[0;32m      1\u001b[0m \u001b[1;32mwith\u001b[0m \u001b[0mopen\u001b[0m\u001b[1;33m(\u001b[0m\u001b[1;34m'taxonomy_results_2021-12-25.json'\u001b[0m\u001b[1;33m,\u001b[0m \u001b[1;34m'w'\u001b[0m\u001b[1;33m,\u001b[0m \u001b[0mencoding\u001b[0m\u001b[1;33m=\u001b[0m\u001b[1;34m\"utf-8\"\u001b[0m\u001b[1;33m)\u001b[0m \u001b[1;32mas\u001b[0m \u001b[0mfp\u001b[0m\u001b[1;33m:\u001b[0m\u001b[1;33m\u001b[0m\u001b[1;33m\u001b[0m\u001b[0m\n\u001b[1;32m----> 2\u001b[1;33m     \u001b[0mjson\u001b[0m\u001b[1;33m.\u001b[0m\u001b[0mdump\u001b[0m\u001b[1;33m(\u001b[0m\u001b[0mtree_taxonomy\u001b[0m\u001b[1;33m,\u001b[0m \u001b[0mfp\u001b[0m\u001b[1;33m,\u001b[0m \u001b[0mindent\u001b[0m\u001b[1;33m=\u001b[0m\u001b[1;36m4\u001b[0m\u001b[1;33m,\u001b[0m \u001b[0mensure_ascii\u001b[0m\u001b[1;33m=\u001b[0m\u001b[1;32mFalse\u001b[0m\u001b[1;33m)\u001b[0m\u001b[1;33m\u001b[0m\u001b[1;33m\u001b[0m\u001b[0m\n\u001b[0m",
      "\u001b[1;31mNameError\u001b[0m: name 'tree_taxonomy' is not defined"
     ]
    }
   ],
   "source": [
    "with open('taxonomy_results_2021-12-25.json', 'w', encoding=\"utf-8\") as fp:\n",
    "    json.dump(tree_taxonomy, fp, indent=4, ensure_ascii=False)"
   ]
  },
  {
   "cell_type": "code",
   "execution_count": 12,
   "id": "1d89a423-78c2-40dc-9f3c-42b529e6d55b",
   "metadata": {},
   "outputs": [],
   "source": [
    "def condition_line_inclusion(line):\n",
    "    return \"en:\" in line and not re.match(r\".+en:[ A-Z-]*\\d{3,15}\", line) and len(line) < 60 and not re.match(r\"\\d{1}\",line.split(\"en:\")[-1]) and not \"http\" in line and not \"en: gi\" in line"
   ]
  },
  {
   "cell_type": "code",
   "execution_count": 13,
   "id": "a55b46af-4f2f-4794-baf5-03b6650ca5e4",
   "metadata": {},
   "outputs": [],
   "source": [
    "levels = 4"
   ]
  },
  {
   "cell_type": "code",
   "execution_count": 14,
   "id": "8610a0a3-8283-4ccf-be85-ee436efb510f",
   "metadata": {},
   "outputs": [],
   "source": [
    "en_lines_list_list_clean = [list(line.split(\"en:\")[-1] for num_line, line in enumerate(useful_lines_list) if condition_line_inclusion(line) and num_line <= levels) for useful_lines_list in cat_taxonomy_text_string_useful_lines]"
   ]
  },
  {
   "cell_type": "code",
   "execution_count": 15,
   "id": "1c4d562c-cb37-4c7b-a846-20bbe3479c2b",
   "metadata": {},
   "outputs": [],
   "source": [
    "tree_taxonomy_clean = form_tree(en_lines_list_list_clean)\n",
    "#tree_taxonomy_clean"
   ]
  },
  {
   "cell_type": "code",
   "execution_count": 19,
   "id": "30b0c400-b2f0-4ba9-80f4-c062f38c7ff5",
   "metadata": {},
   "outputs": [],
   "source": [
    "with open('clean_taxonomy_results_2021-12-26.json', 'w', encoding=\"utf-8\") as fp:\n",
    "    json.dump(tree_taxonomy_clean, fp, indent=4, ensure_ascii=False)"
   ]
  },
  {
   "cell_type": "code",
   "execution_count": 17,
   "id": "6a9faf37-ceb0-42d0-b142-b219f059cc13",
   "metadata": {},
   "outputs": [],
   "source": [
    "for list_no, lines_list in enumerate(cat_taxonomy_text_string_useful_lines):\n",
    "    for line_no, line in enumerate(lines_list):\n",
    "        re_match = re.match(r\".+en:[ A-Z-]*\\d{3,15}\", line)\n",
    "        if re_match:\n",
    "            #print(\"List number: \", str(list_no).zfill(6), \"\\tline number \", str(line_no).zfill(2), \"\\t match\", re_match)\n",
    "            pass"
   ]
  },
  {
   "cell_type": "markdown",
   "id": "6698e19f",
   "metadata": {},
   "source": [
    "The OFF text file with category taxonomy contains paragraphs of text:\n",
    "\n"
   ]
  },
  {
   "cell_type": "code",
   "execution_count": 18,
   "id": "a3bd88fd-eb2c-465a-bb2e-1e01300ec2ba",
   "metadata": {},
   "outputs": [
    {
     "data": {
      "text/plain": [
       "['', '2']"
      ]
     },
     "execution_count": 18,
     "metadata": {},
     "output_type": "execute_result"
    }
   ],
   "source": [
    "\"en:2\".split(\"en:\")"
   ]
  },
  {
   "cell_type": "code",
   "execution_count": null,
   "id": "057644b6-d21b-44ee-92d4-6c77cbd633a9",
   "metadata": {},
   "outputs": [],
   "source": []
  },
  {
   "cell_type": "code",
   "execution_count": null,
   "id": "aba37298-0298-489f-aec6-7f1180dd1b90",
   "metadata": {},
   "outputs": [],
   "source": []
  }
 ],
 "metadata": {
  "kernelspec": {
   "display_name": "Python 3 (ipykernel)",
   "language": "python",
   "name": "python3"
  },
  "language_info": {
   "codemirror_mode": {
    "name": "ipython",
    "version": 3
   },
   "file_extension": ".py",
   "mimetype": "text/x-python",
   "name": "python",
   "nbconvert_exporter": "python",
   "pygments_lexer": "ipython3",
   "version": "3.9.7"
  }
 },
 "nbformat": 4,
 "nbformat_minor": 5
}
